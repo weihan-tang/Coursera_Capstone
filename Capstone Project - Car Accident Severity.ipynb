{
    "cells": [
        {
            "cell_type": "markdown",
            "metadata": {
                "collapsed": true
            },
            "source": "# Capstone Project - Car Accident Severity"
        },
        {
            "cell_type": "markdown",
            "metadata": {},
            "source": "## Table of contents\n* [Introduction](#introduction)\n* [Data Understanding and Preparation](#data)\n* [Methodology](#methodology)\n* [Analysis](#analysis)\n* [Results and Discussion](#results)\n* [Conclusion](#conclusion)"
        },
        {
            "cell_type": "markdown",
            "metadata": {},
            "source": "## Introduction <a name=\"introduction\"></a>"
        },
        {
            "cell_type": "markdown",
            "metadata": {},
            "source": "When it comes to car accidents, there can be a variety of external factors that contribute and lead to the causes. As one can imagine, road intersections might be the hot spots where accidents happen. Also, accidents may happen more frequently during a raining day due to lack of vision. A combination of such external factors may lead to road accidents with different severity. It is of high interest to predict severity of road accidents based on the readily observable and attainable data of external conditions, so that first responders are aware of the type of accidents they are dealing with.\n\nIn this study, we will examine across a large amount of car accidents with the power of data science, and correlate the severity of the accidents with their attributes, such as locations, road conditions, weather, and etc. "
        },
        {
            "cell_type": "markdown",
            "metadata": {},
            "source": "## Data Understanding and Preparation <a name=\"data\"></a>"
        },
        {
            "cell_type": "markdown",
            "metadata": {},
            "source": "### Data Sources"
        },
        {
            "cell_type": "markdown",
            "metadata": {},
            "source": "In this study, we will use the dataset provided by the course of Applied Data Science Capstone project. This data set contains nearly 200000 cases of car accidents, which is sufficient for our study. "
        },
        {
            "cell_type": "markdown",
            "metadata": {},
            "source": "### Data Selection and Cleaning"
        },
        {
            "cell_type": "markdown",
            "metadata": {},
            "source": "This dataset has a few problems and need cleaning."
        },
        {
            "cell_type": "markdown",
            "metadata": {},
            "source": "#### Duplicate Columns"
        },
        {
            "cell_type": "markdown",
            "metadata": {},
            "source": "The target variable that we try to predict in this study is the severity code. This variable has two values, 1 and 2, whereas a value of 1 suggests property damage only, and a value of 2 indicates injury is involved. A glance at this dataset shows that there are two columns that contain data of this variable. Thus, we start by dropping one of the columns."
        },
        {
            "cell_type": "code",
            "execution_count": 17,
            "metadata": {},
            "outputs": [],
            "source": "import pandas as pd\nimport numpy as np\nimport math"
        },
        {
            "cell_type": "code",
            "execution_count": 76,
            "metadata": {},
            "outputs": [
                {
                    "name": "stderr",
                    "output_type": "stream",
                    "text": "/opt/conda/envs/Python36/lib/python3.6/site-packages/IPython/core/interactiveshell.py:3020: DtypeWarning: Columns (33) have mixed types. Specify dtype option on import or set low_memory=False.\n  interactivity=interactivity, compiler=compiler, result=result)\n"
                }
            ],
            "source": "df = pd.read_csv('https://s3.us.cloud-object-storage.appdomain.cloud/cf-courses-data/CognitiveClass/DP0701EN/version-2/Data-Collisions.csv')"
        },
        {
            "cell_type": "code",
            "execution_count": 33,
            "metadata": {},
            "outputs": [
                {
                    "data": {
                        "text/plain": "Index(['SEVERITYCODE', 'X', 'Y', 'OBJECTID', 'INCKEY', 'COLDETKEY', 'REPORTNO',\n       'STATUS', 'ADDRTYPE', 'INTKEY', 'LOCATION', 'EXCEPTRSNCODE',\n       'EXCEPTRSNDESC', 'SEVERITYCODE.1', 'SEVERITYDESC', 'COLLISIONTYPE',\n       'PERSONCOUNT', 'PEDCOUNT', 'PEDCYLCOUNT', 'VEHCOUNT', 'INCDATE',\n       'INCDTTM', 'JUNCTIONTYPE', 'SDOT_COLCODE', 'SDOT_COLDESC',\n       'INATTENTIONIND', 'UNDERINFL', 'WEATHER', 'ROADCOND', 'LIGHTCOND',\n       'PEDROWNOTGRNT', 'SDOTCOLNUM', 'SPEEDING', 'ST_COLCODE', 'ST_COLDESC',\n       'SEGLANEKEY', 'CROSSWALKKEY', 'HITPARKEDCAR'],\n      dtype='object')"
                    },
                    "execution_count": 33,
                    "metadata": {},
                    "output_type": "execute_result"
                }
            ],
            "source": "df.columns"
        },
        {
            "cell_type": "markdown",
            "metadata": {},
            "source": "The above list shows the column names of the data set. Notice that there are two variables 'SEVERITYCODE' and 'SEVERITYCODE.1'. These two variables are duplicates. Here we drop 'SEVERITYCODE.1'."
        },
        {
            "cell_type": "code",
            "execution_count": 77,
            "metadata": {},
            "outputs": [],
            "source": "df.drop('SEVERITYCODE.1',axis=1,inplace=True)"
        },
        {
            "cell_type": "code",
            "execution_count": 35,
            "metadata": {},
            "outputs": [
                {
                    "data": {
                        "text/plain": "Index(['SEVERITYCODE', 'X', 'Y', 'OBJECTID', 'INCKEY', 'COLDETKEY', 'REPORTNO',\n       'STATUS', 'ADDRTYPE', 'INTKEY', 'LOCATION', 'EXCEPTRSNCODE',\n       'EXCEPTRSNDESC', 'SEVERITYDESC', 'COLLISIONTYPE', 'PERSONCOUNT',\n       'PEDCOUNT', 'PEDCYLCOUNT', 'VEHCOUNT', 'INCDATE', 'INCDTTM',\n       'JUNCTIONTYPE', 'SDOT_COLCODE', 'SDOT_COLDESC', 'INATTENTIONIND',\n       'UNDERINFL', 'WEATHER', 'ROADCOND', 'LIGHTCOND', 'PEDROWNOTGRNT',\n       'SDOTCOLNUM', 'SPEEDING', 'ST_COLCODE', 'ST_COLDESC', 'SEGLANEKEY',\n       'CROSSWALKKEY', 'HITPARKEDCAR'],\n      dtype='object')"
                    },
                    "execution_count": 35,
                    "metadata": {},
                    "output_type": "execute_result"
                }
            ],
            "source": "df.columns"
        },
        {
            "cell_type": "markdown",
            "metadata": {},
            "source": "####  Feature Selection"
        },
        {
            "cell_type": "markdown",
            "metadata": {},
            "source": "This vast dataset contains information that is clearly not related to the cause of a road accident, such as OBJECTID, INCKEY, and etc. Here we only keep meaningful data that potentially have an impact on the cause of a road accidents, which include the following: \n* Location of the accident: 'X', 'Y'\n* Is the location a intersection or a block: 'ADDRTYPE'\n* Weather condition: 'WEATHER'\n* Under influence of achohol: 'UNDERINFL'\n* Road Condition: 'ROADCOND'\n* Light Condition: 'LIGHTCOND'\n* Speeding or not: 'SPEEDING'\n"
        },
        {
            "cell_type": "code",
            "execution_count": 78,
            "metadata": {},
            "outputs": [],
            "source": "df = df[['SEVERITYCODE', 'X', 'Y', 'ADDRTYPE', 'UNDERINFL', 'WEATHER', 'ROADCOND', 'LIGHTCOND', 'SPEEDING']]"
        },
        {
            "cell_type": "code",
            "execution_count": 37,
            "metadata": {},
            "outputs": [
                {
                    "data": {
                        "text/html": "<div>\n<style scoped>\n    .dataframe tbody tr th:only-of-type {\n        vertical-align: middle;\n    }\n\n    .dataframe tbody tr th {\n        vertical-align: top;\n    }\n\n    .dataframe thead th {\n        text-align: right;\n    }\n</style>\n<table border=\"1\" class=\"dataframe\">\n  <thead>\n    <tr style=\"text-align: right;\">\n      <th></th>\n      <th>SEVERITYCODE</th>\n      <th>X</th>\n      <th>Y</th>\n      <th>ADDRTYPE</th>\n      <th>UNDERINFL</th>\n      <th>WEATHER</th>\n      <th>ROADCOND</th>\n      <th>LIGHTCOND</th>\n      <th>SPEEDING</th>\n    </tr>\n  </thead>\n  <tbody>\n    <tr>\n      <th>0</th>\n      <td>2</td>\n      <td>-122.323148</td>\n      <td>47.703140</td>\n      <td>Intersection</td>\n      <td>N</td>\n      <td>Overcast</td>\n      <td>Wet</td>\n      <td>Daylight</td>\n      <td>NaN</td>\n    </tr>\n    <tr>\n      <th>1</th>\n      <td>1</td>\n      <td>-122.347294</td>\n      <td>47.647172</td>\n      <td>Block</td>\n      <td>0</td>\n      <td>Raining</td>\n      <td>Wet</td>\n      <td>Dark - Street Lights On</td>\n      <td>NaN</td>\n    </tr>\n    <tr>\n      <th>2</th>\n      <td>1</td>\n      <td>-122.334540</td>\n      <td>47.607871</td>\n      <td>Block</td>\n      <td>0</td>\n      <td>Overcast</td>\n      <td>Dry</td>\n      <td>Daylight</td>\n      <td>NaN</td>\n    </tr>\n    <tr>\n      <th>3</th>\n      <td>1</td>\n      <td>-122.334803</td>\n      <td>47.604803</td>\n      <td>Block</td>\n      <td>N</td>\n      <td>Clear</td>\n      <td>Dry</td>\n      <td>Daylight</td>\n      <td>NaN</td>\n    </tr>\n    <tr>\n      <th>4</th>\n      <td>2</td>\n      <td>-122.306426</td>\n      <td>47.545739</td>\n      <td>Intersection</td>\n      <td>0</td>\n      <td>Raining</td>\n      <td>Wet</td>\n      <td>Daylight</td>\n      <td>NaN</td>\n    </tr>\n    <tr>\n      <th>5</th>\n      <td>1</td>\n      <td>-122.387598</td>\n      <td>47.690575</td>\n      <td>Intersection</td>\n      <td>N</td>\n      <td>Clear</td>\n      <td>Dry</td>\n      <td>Daylight</td>\n      <td>NaN</td>\n    </tr>\n    <tr>\n      <th>6</th>\n      <td>1</td>\n      <td>-122.338485</td>\n      <td>47.618534</td>\n      <td>Intersection</td>\n      <td>0</td>\n      <td>Raining</td>\n      <td>Wet</td>\n      <td>Daylight</td>\n      <td>NaN</td>\n    </tr>\n    <tr>\n      <th>7</th>\n      <td>2</td>\n      <td>-122.320780</td>\n      <td>47.614076</td>\n      <td>Intersection</td>\n      <td>N</td>\n      <td>Clear</td>\n      <td>Dry</td>\n      <td>Daylight</td>\n      <td>NaN</td>\n    </tr>\n    <tr>\n      <th>8</th>\n      <td>1</td>\n      <td>-122.335930</td>\n      <td>47.611904</td>\n      <td>Block</td>\n      <td>0</td>\n      <td>Clear</td>\n      <td>Dry</td>\n      <td>Daylight</td>\n      <td>NaN</td>\n    </tr>\n    <tr>\n      <th>9</th>\n      <td>2</td>\n      <td>-122.384700</td>\n      <td>47.528475</td>\n      <td>Intersection</td>\n      <td>0</td>\n      <td>Clear</td>\n      <td>Dry</td>\n      <td>Daylight</td>\n      <td>NaN</td>\n    </tr>\n    <tr>\n      <th>10</th>\n      <td>1</td>\n      <td>NaN</td>\n      <td>NaN</td>\n      <td>Alley</td>\n      <td>0</td>\n      <td>Overcast</td>\n      <td>Dry</td>\n      <td>Daylight</td>\n      <td>NaN</td>\n    </tr>\n    <tr>\n      <th>11</th>\n      <td>1</td>\n      <td>-122.333831</td>\n      <td>47.547371</td>\n      <td>Intersection</td>\n      <td>0</td>\n      <td>Clear</td>\n      <td>Dry</td>\n      <td>Daylight</td>\n      <td>NaN</td>\n    </tr>\n    <tr>\n      <th>12</th>\n      <td>1</td>\n      <td>-122.356273</td>\n      <td>47.571375</td>\n      <td>Block</td>\n      <td>0</td>\n      <td>Raining</td>\n      <td>Wet</td>\n      <td>Dark - Street Lights On</td>\n      <td>NaN</td>\n    </tr>\n    <tr>\n      <th>13</th>\n      <td>1</td>\n      <td>-122.323966</td>\n      <td>47.606374</td>\n      <td>Block</td>\n      <td>0</td>\n      <td>Raining</td>\n      <td>Wet</td>\n      <td>Dark - No Street Lights</td>\n      <td>NaN</td>\n    </tr>\n    <tr>\n      <th>14</th>\n      <td>2</td>\n      <td>-122.317414</td>\n      <td>47.664028</td>\n      <td>Block</td>\n      <td>N</td>\n      <td>Clear</td>\n      <td>Dry</td>\n      <td>Dark - Street Lights On</td>\n      <td>NaN</td>\n    </tr>\n  </tbody>\n</table>\n</div>",
                        "text/plain": "    SEVERITYCODE           X          Y      ADDRTYPE UNDERINFL   WEATHER  \\\n0              2 -122.323148  47.703140  Intersection         N  Overcast   \n1              1 -122.347294  47.647172         Block         0   Raining   \n2              1 -122.334540  47.607871         Block         0  Overcast   \n3              1 -122.334803  47.604803         Block         N     Clear   \n4              2 -122.306426  47.545739  Intersection         0   Raining   \n5              1 -122.387598  47.690575  Intersection         N     Clear   \n6              1 -122.338485  47.618534  Intersection         0   Raining   \n7              2 -122.320780  47.614076  Intersection         N     Clear   \n8              1 -122.335930  47.611904         Block         0     Clear   \n9              2 -122.384700  47.528475  Intersection         0     Clear   \n10             1         NaN        NaN         Alley         0  Overcast   \n11             1 -122.333831  47.547371  Intersection         0     Clear   \n12             1 -122.356273  47.571375         Block         0   Raining   \n13             1 -122.323966  47.606374         Block         0   Raining   \n14             2 -122.317414  47.664028         Block         N     Clear   \n\n   ROADCOND                LIGHTCOND SPEEDING  \n0       Wet                 Daylight      NaN  \n1       Wet  Dark - Street Lights On      NaN  \n2       Dry                 Daylight      NaN  \n3       Dry                 Daylight      NaN  \n4       Wet                 Daylight      NaN  \n5       Dry                 Daylight      NaN  \n6       Wet                 Daylight      NaN  \n7       Dry                 Daylight      NaN  \n8       Dry                 Daylight      NaN  \n9       Dry                 Daylight      NaN  \n10      Dry                 Daylight      NaN  \n11      Dry                 Daylight      NaN  \n12      Wet  Dark - Street Lights On      NaN  \n13      Wet  Dark - No Street Lights      NaN  \n14      Dry  Dark - Street Lights On      NaN  "
                    },
                    "execution_count": 37,
                    "metadata": {},
                    "output_type": "execute_result"
                }
            ],
            "source": "df.head(15)"
        },
        {
            "cell_type": "markdown",
            "metadata": {},
            "source": "#### Missing Values"
        },
        {
            "cell_type": "markdown",
            "metadata": {},
            "source": "Notice that the above dataset contains many values of NaN. These values need to be dealt with in different ways. \n\n* The location data 'X' and 'Y' have a few rows of missing data. In this case, the entire rows are dropped. The same approach is applied to the other features where the number of NaN values contributes to only a small portion of the whole columns. \n* An exception is the data contained in 'SPEEDING'. Due to the data format contained in the raw spreadsheet, only a speeding case has an entry 'Y', the rest are missing values. In this case we replace the NaN values with 0."
        },
        {
            "cell_type": "code",
            "execution_count": 79,
            "metadata": {},
            "outputs": [
                {
                    "data": {
                        "text/html": "<div>\n<style scoped>\n    .dataframe tbody tr th:only-of-type {\n        vertical-align: middle;\n    }\n\n    .dataframe tbody tr th {\n        vertical-align: top;\n    }\n\n    .dataframe thead th {\n        text-align: right;\n    }\n</style>\n<table border=\"1\" class=\"dataframe\">\n  <thead>\n    <tr style=\"text-align: right;\">\n      <th></th>\n      <th>SEVERITYCODE</th>\n      <th>X</th>\n      <th>Y</th>\n      <th>ADDRTYPE</th>\n      <th>UNDERINFL</th>\n      <th>WEATHER</th>\n      <th>ROADCOND</th>\n      <th>LIGHTCOND</th>\n      <th>SPEEDING</th>\n    </tr>\n  </thead>\n  <tbody>\n    <tr>\n      <th>0</th>\n      <td>2</td>\n      <td>-122.323148</td>\n      <td>47.703140</td>\n      <td>Intersection</td>\n      <td>N</td>\n      <td>Overcast</td>\n      <td>Wet</td>\n      <td>Daylight</td>\n      <td>0</td>\n    </tr>\n    <tr>\n      <th>1</th>\n      <td>1</td>\n      <td>-122.347294</td>\n      <td>47.647172</td>\n      <td>Block</td>\n      <td>0</td>\n      <td>Raining</td>\n      <td>Wet</td>\n      <td>Dark - Street Lights On</td>\n      <td>0</td>\n    </tr>\n    <tr>\n      <th>2</th>\n      <td>1</td>\n      <td>-122.334540</td>\n      <td>47.607871</td>\n      <td>Block</td>\n      <td>0</td>\n      <td>Overcast</td>\n      <td>Dry</td>\n      <td>Daylight</td>\n      <td>0</td>\n    </tr>\n    <tr>\n      <th>3</th>\n      <td>1</td>\n      <td>-122.334803</td>\n      <td>47.604803</td>\n      <td>Block</td>\n      <td>N</td>\n      <td>Clear</td>\n      <td>Dry</td>\n      <td>Daylight</td>\n      <td>0</td>\n    </tr>\n    <tr>\n      <th>4</th>\n      <td>2</td>\n      <td>-122.306426</td>\n      <td>47.545739</td>\n      <td>Intersection</td>\n      <td>0</td>\n      <td>Raining</td>\n      <td>Wet</td>\n      <td>Daylight</td>\n      <td>0</td>\n    </tr>\n    <tr>\n      <th>5</th>\n      <td>1</td>\n      <td>-122.387598</td>\n      <td>47.690575</td>\n      <td>Intersection</td>\n      <td>N</td>\n      <td>Clear</td>\n      <td>Dry</td>\n      <td>Daylight</td>\n      <td>0</td>\n    </tr>\n    <tr>\n      <th>6</th>\n      <td>1</td>\n      <td>-122.338485</td>\n      <td>47.618534</td>\n      <td>Intersection</td>\n      <td>0</td>\n      <td>Raining</td>\n      <td>Wet</td>\n      <td>Daylight</td>\n      <td>0</td>\n    </tr>\n    <tr>\n      <th>7</th>\n      <td>2</td>\n      <td>-122.320780</td>\n      <td>47.614076</td>\n      <td>Intersection</td>\n      <td>N</td>\n      <td>Clear</td>\n      <td>Dry</td>\n      <td>Daylight</td>\n      <td>0</td>\n    </tr>\n    <tr>\n      <th>8</th>\n      <td>1</td>\n      <td>-122.335930</td>\n      <td>47.611904</td>\n      <td>Block</td>\n      <td>0</td>\n      <td>Clear</td>\n      <td>Dry</td>\n      <td>Daylight</td>\n      <td>0</td>\n    </tr>\n    <tr>\n      <th>9</th>\n      <td>2</td>\n      <td>-122.384700</td>\n      <td>47.528475</td>\n      <td>Intersection</td>\n      <td>0</td>\n      <td>Clear</td>\n      <td>Dry</td>\n      <td>Daylight</td>\n      <td>0</td>\n    </tr>\n    <tr>\n      <th>11</th>\n      <td>1</td>\n      <td>-122.333831</td>\n      <td>47.547371</td>\n      <td>Intersection</td>\n      <td>0</td>\n      <td>Clear</td>\n      <td>Dry</td>\n      <td>Daylight</td>\n      <td>0</td>\n    </tr>\n    <tr>\n      <th>12</th>\n      <td>1</td>\n      <td>-122.356273</td>\n      <td>47.571375</td>\n      <td>Block</td>\n      <td>0</td>\n      <td>Raining</td>\n      <td>Wet</td>\n      <td>Dark - Street Lights On</td>\n      <td>0</td>\n    </tr>\n    <tr>\n      <th>13</th>\n      <td>1</td>\n      <td>-122.323966</td>\n      <td>47.606374</td>\n      <td>Block</td>\n      <td>0</td>\n      <td>Raining</td>\n      <td>Wet</td>\n      <td>Dark - No Street Lights</td>\n      <td>0</td>\n    </tr>\n    <tr>\n      <th>14</th>\n      <td>2</td>\n      <td>-122.317414</td>\n      <td>47.664028</td>\n      <td>Block</td>\n      <td>N</td>\n      <td>Clear</td>\n      <td>Dry</td>\n      <td>Dark - Street Lights On</td>\n      <td>0</td>\n    </tr>\n    <tr>\n      <th>16</th>\n      <td>2</td>\n      <td>-122.344539</td>\n      <td>47.692012</td>\n      <td>Intersection</td>\n      <td>0</td>\n      <td>Overcast</td>\n      <td>Dry</td>\n      <td>Daylight</td>\n      <td>0</td>\n    </tr>\n  </tbody>\n</table>\n</div>",
                        "text/plain": "    SEVERITYCODE           X          Y      ADDRTYPE UNDERINFL   WEATHER  \\\n0              2 -122.323148  47.703140  Intersection         N  Overcast   \n1              1 -122.347294  47.647172         Block         0   Raining   \n2              1 -122.334540  47.607871         Block         0  Overcast   \n3              1 -122.334803  47.604803         Block         N     Clear   \n4              2 -122.306426  47.545739  Intersection         0   Raining   \n5              1 -122.387598  47.690575  Intersection         N     Clear   \n6              1 -122.338485  47.618534  Intersection         0   Raining   \n7              2 -122.320780  47.614076  Intersection         N     Clear   \n8              1 -122.335930  47.611904         Block         0     Clear   \n9              2 -122.384700  47.528475  Intersection         0     Clear   \n11             1 -122.333831  47.547371  Intersection         0     Clear   \n12             1 -122.356273  47.571375         Block         0   Raining   \n13             1 -122.323966  47.606374         Block         0   Raining   \n14             2 -122.317414  47.664028         Block         N     Clear   \n16             2 -122.344539  47.692012  Intersection         0  Overcast   \n\n   ROADCOND                LIGHTCOND SPEEDING  \n0       Wet                 Daylight        0  \n1       Wet  Dark - Street Lights On        0  \n2       Dry                 Daylight        0  \n3       Dry                 Daylight        0  \n4       Wet                 Daylight        0  \n5       Dry                 Daylight        0  \n6       Wet                 Daylight        0  \n7       Dry                 Daylight        0  \n8       Dry                 Daylight        0  \n9       Dry                 Daylight        0  \n11      Dry                 Daylight        0  \n12      Wet  Dark - Street Lights On        0  \n13      Wet  Dark - No Street Lights        0  \n14      Dry  Dark - Street Lights On        0  \n16      Dry                 Daylight        0  "
                    },
                    "execution_count": 79,
                    "metadata": {},
                    "output_type": "execute_result"
                }
            ],
            "source": "df['SPEEDING'].fillna(value=0,axis=0,inplace=True)\ndf.dropna(inplace=True)\ndf.head(15)"
        },
        {
            "cell_type": "markdown",
            "metadata": {},
            "source": "#### Data Formatting and Filtering"
        },
        {
            "cell_type": "code",
            "execution_count": 68,
            "metadata": {},
            "outputs": [
                {
                    "data": {
                        "text/plain": "ADDRTYPE         object\nDry             float64\nIce             float64\nLIGHTCOND        object\nROADCOND         object\nSEVERITYCODE    float64\nSPEEDING         object\nUNDERINFL        object\nWEATHER          object\nX               float64\nY               float64\ndtype: object"
                    },
                    "execution_count": 68,
                    "metadata": {},
                    "output_type": "execute_result"
                }
            ],
            "source": "df.dtypes"
        },
        {
            "cell_type": "markdown",
            "metadata": {},
            "source": "Many features in the above dataset has string values. To prepare this dataset for the downstream analysis, we need to replace the categorical values with quantitative values. Here we use one-shot binning to convert categorical data into a number of indicator columns. For example, the 'ROADCOND' column is converted into 9 separate columns - 'Dry', 'Ice', and etc, each indicating whether an accident happened under such road conditions, as shown below. "
        },
        {
            "cell_type": "code",
            "execution_count": 80,
            "metadata": {},
            "outputs": [
                {
                    "data": {
                        "text/html": "<div>\n<style scoped>\n    .dataframe tbody tr th:only-of-type {\n        vertical-align: middle;\n    }\n\n    .dataframe tbody tr th {\n        vertical-align: top;\n    }\n\n    .dataframe thead th {\n        text-align: right;\n    }\n</style>\n<table border=\"1\" class=\"dataframe\">\n  <thead>\n    <tr style=\"text-align: right;\">\n      <th></th>\n      <th>Dry</th>\n      <th>Ice</th>\n      <th>Oil</th>\n      <th>Other</th>\n      <th>Sand/Mud/Dirt</th>\n      <th>Snow/Slush</th>\n      <th>Standing Water</th>\n      <th>Unknown</th>\n      <th>Wet</th>\n    </tr>\n  </thead>\n  <tbody>\n    <tr>\n      <th>0</th>\n      <td>0</td>\n      <td>0</td>\n      <td>0</td>\n      <td>0</td>\n      <td>0</td>\n      <td>0</td>\n      <td>0</td>\n      <td>0</td>\n      <td>1</td>\n    </tr>\n    <tr>\n      <th>1</th>\n      <td>0</td>\n      <td>0</td>\n      <td>0</td>\n      <td>0</td>\n      <td>0</td>\n      <td>0</td>\n      <td>0</td>\n      <td>0</td>\n      <td>1</td>\n    </tr>\n    <tr>\n      <th>2</th>\n      <td>1</td>\n      <td>0</td>\n      <td>0</td>\n      <td>0</td>\n      <td>0</td>\n      <td>0</td>\n      <td>0</td>\n      <td>0</td>\n      <td>0</td>\n    </tr>\n    <tr>\n      <th>3</th>\n      <td>1</td>\n      <td>0</td>\n      <td>0</td>\n      <td>0</td>\n      <td>0</td>\n      <td>0</td>\n      <td>0</td>\n      <td>0</td>\n      <td>0</td>\n    </tr>\n    <tr>\n      <th>4</th>\n      <td>0</td>\n      <td>0</td>\n      <td>0</td>\n      <td>0</td>\n      <td>0</td>\n      <td>0</td>\n      <td>0</td>\n      <td>0</td>\n      <td>1</td>\n    </tr>\n  </tbody>\n</table>\n</div>",
                        "text/plain": "   Dry  Ice  Oil  Other  Sand/Mud/Dirt  Snow/Slush  Standing Water  Unknown  \\\n0    0    0    0      0              0           0               0        0   \n1    0    0    0      0              0           0               0        0   \n2    1    0    0      0              0           0               0        0   \n3    1    0    0      0              0           0               0        0   \n4    0    0    0      0              0           0               0        0   \n\n   Wet  \n0    1  \n1    1  \n2    0  \n3    0  \n4    1  "
                    },
                    "execution_count": 80,
                    "metadata": {},
                    "output_type": "execute_result"
                }
            ],
            "source": "df_wea=pd.get_dummies(df['ROADCOND'])\ndf_wea.head()"
        },
        {
            "cell_type": "markdown",
            "metadata": {},
            "source": "A further investigation shows that 'Dry' and 'Wet' conditions contribute to 91% of the total number of cases. To simplify the dataset, we only keep 'Dry' and 'Wet' columns, and drop the rest."
        },
        {
            "cell_type": "code",
            "execution_count": 81,
            "metadata": {},
            "outputs": [
                {
                    "data": {
                        "text/plain": "Dry               121871\nWet                46009\nUnknown            13795\nIce                 1174\nSnow/Slush           984\nOther                116\nStanding Water       102\nSand/Mud/Dirt         63\nOil                   53\nName: ROADCOND, dtype: int64"
                    },
                    "execution_count": 81,
                    "metadata": {},
                    "output_type": "execute_result"
                }
            ],
            "source": "df['ROADCOND'].value_counts()"
        },
        {
            "cell_type": "code",
            "execution_count": 82,
            "metadata": {},
            "outputs": [
                {
                    "data": {
                        "text/html": "<div>\n<style scoped>\n    .dataframe tbody tr th:only-of-type {\n        vertical-align: middle;\n    }\n\n    .dataframe tbody tr th {\n        vertical-align: top;\n    }\n\n    .dataframe thead th {\n        text-align: right;\n    }\n</style>\n<table border=\"1\" class=\"dataframe\">\n  <thead>\n    <tr style=\"text-align: right;\">\n      <th></th>\n      <th>Dry</th>\n      <th>Ice</th>\n    </tr>\n  </thead>\n  <tbody>\n    <tr>\n      <th>0</th>\n      <td>0</td>\n      <td>0</td>\n    </tr>\n    <tr>\n      <th>1</th>\n      <td>0</td>\n      <td>0</td>\n    </tr>\n    <tr>\n      <th>2</th>\n      <td>1</td>\n      <td>0</td>\n    </tr>\n    <tr>\n      <th>3</th>\n      <td>1</td>\n      <td>0</td>\n    </tr>\n    <tr>\n      <th>4</th>\n      <td>0</td>\n      <td>0</td>\n    </tr>\n  </tbody>\n</table>\n</div>",
                        "text/plain": "   Dry  Ice\n0    0    0\n1    0    0\n2    1    0\n3    1    0\n4    0    0"
                    },
                    "execution_count": 82,
                    "metadata": {},
                    "output_type": "execute_result"
                }
            ],
            "source": "df_wea=df_wea[['Dry','Ice']]\ndf_wea.head()"
        },
        {
            "cell_type": "markdown",
            "metadata": {},
            "source": "The two columns are concatenated with the dataset, and the original column 'ROADCOND' is dropped."
        },
        {
            "cell_type": "code",
            "execution_count": 87,
            "metadata": {},
            "outputs": [],
            "source": "df_wea.reset_index(drop=True, inplace=True)\ndf.reset_index(drop=True, inplace=True)\ndf = pd.concat([df,df_wea],axis=1)\n"
        },
        {
            "cell_type": "code",
            "execution_count": 91,
            "metadata": {},
            "outputs": [],
            "source": "df.drop(['ROADCOND'],axis=1,inplace=True)"
        },
        {
            "cell_type": "code",
            "execution_count": 92,
            "metadata": {},
            "outputs": [
                {
                    "data": {
                        "text/html": "<div>\n<style scoped>\n    .dataframe tbody tr th:only-of-type {\n        vertical-align: middle;\n    }\n\n    .dataframe tbody tr th {\n        vertical-align: top;\n    }\n\n    .dataframe thead th {\n        text-align: right;\n    }\n</style>\n<table border=\"1\" class=\"dataframe\">\n  <thead>\n    <tr style=\"text-align: right;\">\n      <th></th>\n      <th>SEVERITYCODE</th>\n      <th>X</th>\n      <th>Y</th>\n      <th>ADDRTYPE</th>\n      <th>UNDERINFL</th>\n      <th>WEATHER</th>\n      <th>LIGHTCOND</th>\n      <th>SPEEDING</th>\n      <th>Dry</th>\n      <th>Ice</th>\n    </tr>\n  </thead>\n  <tbody>\n    <tr>\n      <th>0</th>\n      <td>2</td>\n      <td>-122.323148</td>\n      <td>47.703140</td>\n      <td>Intersection</td>\n      <td>N</td>\n      <td>Overcast</td>\n      <td>Daylight</td>\n      <td>0</td>\n      <td>0</td>\n      <td>0</td>\n    </tr>\n    <tr>\n      <th>1</th>\n      <td>1</td>\n      <td>-122.347294</td>\n      <td>47.647172</td>\n      <td>Block</td>\n      <td>0</td>\n      <td>Raining</td>\n      <td>Dark - Street Lights On</td>\n      <td>0</td>\n      <td>0</td>\n      <td>0</td>\n    </tr>\n    <tr>\n      <th>2</th>\n      <td>1</td>\n      <td>-122.334540</td>\n      <td>47.607871</td>\n      <td>Block</td>\n      <td>0</td>\n      <td>Overcast</td>\n      <td>Daylight</td>\n      <td>0</td>\n      <td>1</td>\n      <td>0</td>\n    </tr>\n    <tr>\n      <th>3</th>\n      <td>1</td>\n      <td>-122.334803</td>\n      <td>47.604803</td>\n      <td>Block</td>\n      <td>N</td>\n      <td>Clear</td>\n      <td>Daylight</td>\n      <td>0</td>\n      <td>1</td>\n      <td>0</td>\n    </tr>\n    <tr>\n      <th>4</th>\n      <td>2</td>\n      <td>-122.306426</td>\n      <td>47.545739</td>\n      <td>Intersection</td>\n      <td>0</td>\n      <td>Raining</td>\n      <td>Daylight</td>\n      <td>0</td>\n      <td>0</td>\n      <td>0</td>\n    </tr>\n  </tbody>\n</table>\n</div>",
                        "text/plain": "   SEVERITYCODE           X          Y      ADDRTYPE UNDERINFL   WEATHER  \\\n0             2 -122.323148  47.703140  Intersection         N  Overcast   \n1             1 -122.347294  47.647172         Block         0   Raining   \n2             1 -122.334540  47.607871         Block         0  Overcast   \n3             1 -122.334803  47.604803         Block         N     Clear   \n4             2 -122.306426  47.545739  Intersection         0   Raining   \n\n                 LIGHTCOND SPEEDING  Dry  Ice  \n0                 Daylight        0    0    0  \n1  Dark - Street Lights On        0    0    0  \n2                 Daylight        0    1    0  \n3                 Daylight        0    1    0  \n4                 Daylight        0    0    0  "
                    },
                    "execution_count": 92,
                    "metadata": {},
                    "output_type": "execute_result"
                }
            ],
            "source": "df.head()"
        },
        {
            "cell_type": "markdown",
            "metadata": {},
            "source": "The above approach is also applied to columns 'ADDRTYPE', 'WEATHER', and 'LIGHTCOND'. "
        },
        {
            "cell_type": "code",
            "execution_count": 93,
            "metadata": {},
            "outputs": [
                {
                    "data": {
                        "text/html": "<div>\n<style scoped>\n    .dataframe tbody tr th:only-of-type {\n        vertical-align: middle;\n    }\n\n    .dataframe tbody tr th {\n        vertical-align: top;\n    }\n\n    .dataframe thead th {\n        text-align: right;\n    }\n</style>\n<table border=\"1\" class=\"dataframe\">\n  <thead>\n    <tr style=\"text-align: right;\">\n      <th></th>\n      <th>Block</th>\n      <th>Intersection</th>\n    </tr>\n  </thead>\n  <tbody>\n    <tr>\n      <th>0</th>\n      <td>0</td>\n      <td>1</td>\n    </tr>\n    <tr>\n      <th>1</th>\n      <td>1</td>\n      <td>0</td>\n    </tr>\n    <tr>\n      <th>2</th>\n      <td>1</td>\n      <td>0</td>\n    </tr>\n    <tr>\n      <th>3</th>\n      <td>1</td>\n      <td>0</td>\n    </tr>\n    <tr>\n      <th>4</th>\n      <td>0</td>\n      <td>1</td>\n    </tr>\n  </tbody>\n</table>\n</div>",
                        "text/plain": "   Block  Intersection\n0      0             1\n1      1             0\n2      1             0\n3      1             0\n4      0             1"
                    },
                    "execution_count": 93,
                    "metadata": {},
                    "output_type": "execute_result"
                }
            ],
            "source": "df_add=pd.get_dummies(df['ADDRTYPE'])\ndf_add.head()"
        },
        {
            "cell_type": "code",
            "execution_count": 94,
            "metadata": {},
            "outputs": [],
            "source": "df_add.reset_index(drop=True, inplace=True)\ndf.reset_index(drop=True, inplace=True)\ndf = pd.concat([df,df_add],axis=1)"
        },
        {
            "cell_type": "code",
            "execution_count": 96,
            "metadata": {},
            "outputs": [
                {
                    "data": {
                        "text/html": "<div>\n<style scoped>\n    .dataframe tbody tr th:only-of-type {\n        vertical-align: middle;\n    }\n\n    .dataframe tbody tr th {\n        vertical-align: top;\n    }\n\n    .dataframe thead th {\n        text-align: right;\n    }\n</style>\n<table border=\"1\" class=\"dataframe\">\n  <thead>\n    <tr style=\"text-align: right;\">\n      <th></th>\n      <th>SEVERITYCODE</th>\n      <th>X</th>\n      <th>Y</th>\n      <th>UNDERINFL</th>\n      <th>WEATHER</th>\n      <th>LIGHTCOND</th>\n      <th>SPEEDING</th>\n      <th>Dry</th>\n      <th>Ice</th>\n      <th>Block</th>\n      <th>Intersection</th>\n    </tr>\n  </thead>\n  <tbody>\n    <tr>\n      <th>0</th>\n      <td>2</td>\n      <td>-122.323148</td>\n      <td>47.703140</td>\n      <td>N</td>\n      <td>Overcast</td>\n      <td>Daylight</td>\n      <td>0</td>\n      <td>0</td>\n      <td>0</td>\n      <td>0</td>\n      <td>1</td>\n    </tr>\n    <tr>\n      <th>1</th>\n      <td>1</td>\n      <td>-122.347294</td>\n      <td>47.647172</td>\n      <td>0</td>\n      <td>Raining</td>\n      <td>Dark - Street Lights On</td>\n      <td>0</td>\n      <td>0</td>\n      <td>0</td>\n      <td>1</td>\n      <td>0</td>\n    </tr>\n    <tr>\n      <th>2</th>\n      <td>1</td>\n      <td>-122.334540</td>\n      <td>47.607871</td>\n      <td>0</td>\n      <td>Overcast</td>\n      <td>Daylight</td>\n      <td>0</td>\n      <td>1</td>\n      <td>0</td>\n      <td>1</td>\n      <td>0</td>\n    </tr>\n    <tr>\n      <th>3</th>\n      <td>1</td>\n      <td>-122.334803</td>\n      <td>47.604803</td>\n      <td>N</td>\n      <td>Clear</td>\n      <td>Daylight</td>\n      <td>0</td>\n      <td>1</td>\n      <td>0</td>\n      <td>1</td>\n      <td>0</td>\n    </tr>\n    <tr>\n      <th>4</th>\n      <td>2</td>\n      <td>-122.306426</td>\n      <td>47.545739</td>\n      <td>0</td>\n      <td>Raining</td>\n      <td>Daylight</td>\n      <td>0</td>\n      <td>0</td>\n      <td>0</td>\n      <td>0</td>\n      <td>1</td>\n    </tr>\n  </tbody>\n</table>\n</div>",
                        "text/plain": "   SEVERITYCODE           X          Y UNDERINFL   WEATHER  \\\n0             2 -122.323148  47.703140         N  Overcast   \n1             1 -122.347294  47.647172         0   Raining   \n2             1 -122.334540  47.607871         0  Overcast   \n3             1 -122.334803  47.604803         N     Clear   \n4             2 -122.306426  47.545739         0   Raining   \n\n                 LIGHTCOND SPEEDING  Dry  Ice  Block  Intersection  \n0                 Daylight        0    0    0      0             1  \n1  Dark - Street Lights On        0    0    0      1             0  \n2                 Daylight        0    1    0      1             0  \n3                 Daylight        0    1    0      1             0  \n4                 Daylight        0    0    0      0             1  "
                    },
                    "execution_count": 96,
                    "metadata": {},
                    "output_type": "execute_result"
                }
            ],
            "source": "df.drop(['ADDRTYPE'],axis=1,inplace=True)\ndf.head()"
        },
        {
            "cell_type": "code",
            "execution_count": 98,
            "metadata": {},
            "outputs": [
                {
                    "data": {
                        "text/plain": "Clear                       108833\nRaining                      31987\nOvercast                     27105\nUnknown                      13846\nSnowing                        888\nOther                          765\nFog/Smog/Smoke                 553\nSleet/Hail/Freezing Rain       112\nBlowing Sand/Dirt               49\nSevere Crosswind                24\nPartly Cloudy                    5\nName: WEATHER, dtype: int64"
                    },
                    "execution_count": 98,
                    "metadata": {},
                    "output_type": "execute_result"
                }
            ],
            "source": "df_wea=pd.get_dummies(df['WEATHER'])\ndf['WEATHER'].value_counts()"
        },
        {
            "cell_type": "code",
            "execution_count": 99,
            "metadata": {},
            "outputs": [],
            "source": "df_wea=df_wea[['Clear','Raining','Overcast']]"
        },
        {
            "cell_type": "code",
            "execution_count": 100,
            "metadata": {},
            "outputs": [],
            "source": "df_wea.reset_index(drop=True, inplace=True)\ndf.reset_index(drop=True, inplace=True)\ndf = pd.concat([df,df_wea],axis=1)"
        },
        {
            "cell_type": "code",
            "execution_count": 101,
            "metadata": {},
            "outputs": [
                {
                    "data": {
                        "text/html": "<div>\n<style scoped>\n    .dataframe tbody tr th:only-of-type {\n        vertical-align: middle;\n    }\n\n    .dataframe tbody tr th {\n        vertical-align: top;\n    }\n\n    .dataframe thead th {\n        text-align: right;\n    }\n</style>\n<table border=\"1\" class=\"dataframe\">\n  <thead>\n    <tr style=\"text-align: right;\">\n      <th></th>\n      <th>SEVERITYCODE</th>\n      <th>X</th>\n      <th>Y</th>\n      <th>UNDERINFL</th>\n      <th>LIGHTCOND</th>\n      <th>SPEEDING</th>\n      <th>Dry</th>\n      <th>Ice</th>\n      <th>Block</th>\n      <th>Intersection</th>\n      <th>Clear</th>\n      <th>Raining</th>\n      <th>Overcast</th>\n    </tr>\n  </thead>\n  <tbody>\n    <tr>\n      <th>0</th>\n      <td>2</td>\n      <td>-122.323148</td>\n      <td>47.703140</td>\n      <td>N</td>\n      <td>Daylight</td>\n      <td>0</td>\n      <td>0</td>\n      <td>0</td>\n      <td>0</td>\n      <td>1</td>\n      <td>0</td>\n      <td>0</td>\n      <td>1</td>\n    </tr>\n    <tr>\n      <th>1</th>\n      <td>1</td>\n      <td>-122.347294</td>\n      <td>47.647172</td>\n      <td>0</td>\n      <td>Dark - Street Lights On</td>\n      <td>0</td>\n      <td>0</td>\n      <td>0</td>\n      <td>1</td>\n      <td>0</td>\n      <td>0</td>\n      <td>1</td>\n      <td>0</td>\n    </tr>\n    <tr>\n      <th>2</th>\n      <td>1</td>\n      <td>-122.334540</td>\n      <td>47.607871</td>\n      <td>0</td>\n      <td>Daylight</td>\n      <td>0</td>\n      <td>1</td>\n      <td>0</td>\n      <td>1</td>\n      <td>0</td>\n      <td>0</td>\n      <td>0</td>\n      <td>1</td>\n    </tr>\n    <tr>\n      <th>3</th>\n      <td>1</td>\n      <td>-122.334803</td>\n      <td>47.604803</td>\n      <td>N</td>\n      <td>Daylight</td>\n      <td>0</td>\n      <td>1</td>\n      <td>0</td>\n      <td>1</td>\n      <td>0</td>\n      <td>1</td>\n      <td>0</td>\n      <td>0</td>\n    </tr>\n    <tr>\n      <th>4</th>\n      <td>2</td>\n      <td>-122.306426</td>\n      <td>47.545739</td>\n      <td>0</td>\n      <td>Daylight</td>\n      <td>0</td>\n      <td>0</td>\n      <td>0</td>\n      <td>0</td>\n      <td>1</td>\n      <td>0</td>\n      <td>1</td>\n      <td>0</td>\n    </tr>\n  </tbody>\n</table>\n</div>",
                        "text/plain": "   SEVERITYCODE           X          Y UNDERINFL                LIGHTCOND  \\\n0             2 -122.323148  47.703140         N                 Daylight   \n1             1 -122.347294  47.647172         0  Dark - Street Lights On   \n2             1 -122.334540  47.607871         0                 Daylight   \n3             1 -122.334803  47.604803         N                 Daylight   \n4             2 -122.306426  47.545739         0                 Daylight   \n\n  SPEEDING  Dry  Ice  Block  Intersection  Clear  Raining  Overcast  \n0        0    0    0      0             1      0        0         1  \n1        0    0    0      1             0      0        1         0  \n2        0    1    0      1             0      0        0         1  \n3        0    1    0      1             0      1        0         0  \n4        0    0    0      0             1      0        1         0  "
                    },
                    "execution_count": 101,
                    "metadata": {},
                    "output_type": "execute_result"
                }
            ],
            "source": "df.drop(['WEATHER'],axis=1,inplace=True)\ndf.head()"
        },
        {
            "cell_type": "code",
            "execution_count": 102,
            "metadata": {},
            "outputs": [
                {
                    "data": {
                        "text/plain": "Daylight                    113522\nDark - Street Lights On      47250\nUnknown                      12416\nDusk                          5763\nDawn                          2422\nDark - No Street Lights       1450\nDark - Street Lights Off      1145\nOther                          188\nDark - Unknown Lighting         11\nName: LIGHTCOND, dtype: int64"
                    },
                    "execution_count": 102,
                    "metadata": {},
                    "output_type": "execute_result"
                }
            ],
            "source": "df_wea=pd.get_dummies(df['LIGHTCOND'])\ndf['LIGHTCOND'].value_counts()"
        },
        {
            "cell_type": "code",
            "execution_count": 103,
            "metadata": {},
            "outputs": [
                {
                    "data": {
                        "text/html": "<div>\n<style scoped>\n    .dataframe tbody tr th:only-of-type {\n        vertical-align: middle;\n    }\n\n    .dataframe tbody tr th {\n        vertical-align: top;\n    }\n\n    .dataframe thead th {\n        text-align: right;\n    }\n</style>\n<table border=\"1\" class=\"dataframe\">\n  <thead>\n    <tr style=\"text-align: right;\">\n      <th></th>\n      <th>SEVERITYCODE</th>\n      <th>X</th>\n      <th>Y</th>\n      <th>UNDERINFL</th>\n      <th>SPEEDING</th>\n      <th>Dry</th>\n      <th>Ice</th>\n      <th>Block</th>\n      <th>Intersection</th>\n      <th>Clear</th>\n      <th>Raining</th>\n      <th>Overcast</th>\n      <th>Daylight</th>\n      <th>Dark - Street Lights On</th>\n    </tr>\n  </thead>\n  <tbody>\n    <tr>\n      <th>0</th>\n      <td>2</td>\n      <td>-122.323148</td>\n      <td>47.703140</td>\n      <td>N</td>\n      <td>0</td>\n      <td>0</td>\n      <td>0</td>\n      <td>0</td>\n      <td>1</td>\n      <td>0</td>\n      <td>0</td>\n      <td>1</td>\n      <td>1</td>\n      <td>0</td>\n    </tr>\n    <tr>\n      <th>1</th>\n      <td>1</td>\n      <td>-122.347294</td>\n      <td>47.647172</td>\n      <td>0</td>\n      <td>0</td>\n      <td>0</td>\n      <td>0</td>\n      <td>1</td>\n      <td>0</td>\n      <td>0</td>\n      <td>1</td>\n      <td>0</td>\n      <td>0</td>\n      <td>1</td>\n    </tr>\n    <tr>\n      <th>2</th>\n      <td>1</td>\n      <td>-122.334540</td>\n      <td>47.607871</td>\n      <td>0</td>\n      <td>0</td>\n      <td>1</td>\n      <td>0</td>\n      <td>1</td>\n      <td>0</td>\n      <td>0</td>\n      <td>0</td>\n      <td>1</td>\n      <td>1</td>\n      <td>0</td>\n    </tr>\n    <tr>\n      <th>3</th>\n      <td>1</td>\n      <td>-122.334803</td>\n      <td>47.604803</td>\n      <td>N</td>\n      <td>0</td>\n      <td>1</td>\n      <td>0</td>\n      <td>1</td>\n      <td>0</td>\n      <td>1</td>\n      <td>0</td>\n      <td>0</td>\n      <td>1</td>\n      <td>0</td>\n    </tr>\n    <tr>\n      <th>4</th>\n      <td>2</td>\n      <td>-122.306426</td>\n      <td>47.545739</td>\n      <td>0</td>\n      <td>0</td>\n      <td>0</td>\n      <td>0</td>\n      <td>0</td>\n      <td>1</td>\n      <td>0</td>\n      <td>1</td>\n      <td>0</td>\n      <td>1</td>\n      <td>0</td>\n    </tr>\n  </tbody>\n</table>\n</div>",
                        "text/plain": "   SEVERITYCODE           X          Y UNDERINFL SPEEDING  Dry  Ice  Block  \\\n0             2 -122.323148  47.703140         N        0    0    0      0   \n1             1 -122.347294  47.647172         0        0    0    0      1   \n2             1 -122.334540  47.607871         0        0    1    0      1   \n3             1 -122.334803  47.604803         N        0    1    0      1   \n4             2 -122.306426  47.545739         0        0    0    0      0   \n\n   Intersection  Clear  Raining  Overcast  Daylight  Dark - Street Lights On  \n0             1      0        0         1         1                        0  \n1             0      0        1         0         0                        1  \n2             0      0        0         1         1                        0  \n3             0      1        0         0         1                        0  \n4             1      0        1         0         1                        0  "
                    },
                    "execution_count": 103,
                    "metadata": {},
                    "output_type": "execute_result"
                }
            ],
            "source": "df_wea=df_wea[['Daylight','Dark - Street Lights On']]\ndf_wea.reset_index(drop=True, inplace=True)\ndf.reset_index(drop=True, inplace=True)\ndf = pd.concat([df,df_wea],axis=1)\ndf.drop(['LIGHTCOND'],axis=1,inplace=True)\ndf.head()"
        },
        {
            "cell_type": "markdown",
            "metadata": {},
            "source": "The column 'UNDERINFL' contains mixed values of Y, 0, and N. Both N and 0 indicate the driver is not influenced by achohol. Here we convert values of N to integer 0, and Y to integer 1. We apply the same approach to column 'SPEEDING'"
        },
        {
            "cell_type": "code",
            "execution_count": 106,
            "metadata": {},
            "outputs": [],
            "source": "df['UNDERINFL'].replace(to_replace='N',value=0,inplace=True)\ndf['UNDERINFL'].replace(to_replace='Y',value=1,inplace=True)\n"
        },
        {
            "cell_type": "code",
            "execution_count": 110,
            "metadata": {},
            "outputs": [],
            "source": "df['SPEEDING'].replace(to_replace='Y',value=1,inplace=True)\n"
        },
        {
            "cell_type": "markdown",
            "metadata": {},
            "source": "And finally, upon checking the data types of each column, we notice that column 'UNDERINFL' have a type of 'object'. We need to cast these two variables into integers for further analysis."
        },
        {
            "cell_type": "code",
            "execution_count": 114,
            "metadata": {},
            "outputs": [],
            "source": "df['UNDERINFL'].replace(to_replace='1',value=1,inplace=True)"
        },
        {
            "cell_type": "code",
            "execution_count": 115,
            "metadata": {},
            "outputs": [
                {
                    "data": {
                        "text/plain": "SEVERITYCODE                 int64\nX                          float64\nY                          float64\nUNDERINFL                    int64\nSPEEDING                     int64\nDry                          uint8\nIce                          uint8\nBlock                        uint8\nIntersection                 uint8\nClear                        uint8\nRaining                      uint8\nOvercast                     uint8\nDaylight                     uint8\nDark - Street Lights On      uint8\ndtype: object"
                    },
                    "execution_count": 115,
                    "metadata": {},
                    "output_type": "execute_result"
                }
            ],
            "source": "df.dtypes"
        },
        {
            "cell_type": "code",
            "execution_count": 116,
            "metadata": {},
            "outputs": [
                {
                    "data": {
                        "text/html": "<div>\n<style scoped>\n    .dataframe tbody tr th:only-of-type {\n        vertical-align: middle;\n    }\n\n    .dataframe tbody tr th {\n        vertical-align: top;\n    }\n\n    .dataframe thead th {\n        text-align: right;\n    }\n</style>\n<table border=\"1\" class=\"dataframe\">\n  <thead>\n    <tr style=\"text-align: right;\">\n      <th></th>\n      <th>SEVERITYCODE</th>\n      <th>X</th>\n      <th>Y</th>\n      <th>UNDERINFL</th>\n      <th>SPEEDING</th>\n      <th>Dry</th>\n      <th>Ice</th>\n      <th>Block</th>\n      <th>Intersection</th>\n      <th>Clear</th>\n      <th>Raining</th>\n      <th>Overcast</th>\n      <th>Daylight</th>\n      <th>Dark - Street Lights On</th>\n    </tr>\n  </thead>\n  <tbody>\n    <tr>\n      <th>0</th>\n      <td>2</td>\n      <td>-122.323148</td>\n      <td>47.703140</td>\n      <td>0</td>\n      <td>0</td>\n      <td>0</td>\n      <td>0</td>\n      <td>0</td>\n      <td>1</td>\n      <td>0</td>\n      <td>0</td>\n      <td>1</td>\n      <td>1</td>\n      <td>0</td>\n    </tr>\n    <tr>\n      <th>1</th>\n      <td>1</td>\n      <td>-122.347294</td>\n      <td>47.647172</td>\n      <td>0</td>\n      <td>0</td>\n      <td>0</td>\n      <td>0</td>\n      <td>1</td>\n      <td>0</td>\n      <td>0</td>\n      <td>1</td>\n      <td>0</td>\n      <td>0</td>\n      <td>1</td>\n    </tr>\n    <tr>\n      <th>2</th>\n      <td>1</td>\n      <td>-122.334540</td>\n      <td>47.607871</td>\n      <td>0</td>\n      <td>0</td>\n      <td>1</td>\n      <td>0</td>\n      <td>1</td>\n      <td>0</td>\n      <td>0</td>\n      <td>0</td>\n      <td>1</td>\n      <td>1</td>\n      <td>0</td>\n    </tr>\n    <tr>\n      <th>3</th>\n      <td>1</td>\n      <td>-122.334803</td>\n      <td>47.604803</td>\n      <td>0</td>\n      <td>0</td>\n      <td>1</td>\n      <td>0</td>\n      <td>1</td>\n      <td>0</td>\n      <td>1</td>\n      <td>0</td>\n      <td>0</td>\n      <td>1</td>\n      <td>0</td>\n    </tr>\n    <tr>\n      <th>4</th>\n      <td>2</td>\n      <td>-122.306426</td>\n      <td>47.545739</td>\n      <td>0</td>\n      <td>0</td>\n      <td>0</td>\n      <td>0</td>\n      <td>0</td>\n      <td>1</td>\n      <td>0</td>\n      <td>1</td>\n      <td>0</td>\n      <td>1</td>\n      <td>0</td>\n    </tr>\n  </tbody>\n</table>\n</div>",
                        "text/plain": "   SEVERITYCODE           X          Y  UNDERINFL  SPEEDING  Dry  Ice  Block  \\\n0             2 -122.323148  47.703140          0         0    0    0      0   \n1             1 -122.347294  47.647172          0         0    0    0      1   \n2             1 -122.334540  47.607871          0         0    1    0      1   \n3             1 -122.334803  47.604803          0         0    1    0      1   \n4             2 -122.306426  47.545739          0         0    0    0      0   \n\n   Intersection  Clear  Raining  Overcast  Daylight  Dark - Street Lights On  \n0             1      0        0         1         1                        0  \n1             0      0        1         0         0                        1  \n2             0      0        0         1         1                        0  \n3             0      1        0         0         1                        0  \n4             1      0        1         0         1                        0  "
                    },
                    "execution_count": 116,
                    "metadata": {},
                    "output_type": "execute_result"
                }
            ],
            "source": "df.head()"
        },
        {
            "cell_type": "markdown",
            "metadata": {},
            "source": "The above dataset is not cleaned, formated, and filtered for modeling and downstream analysis."
        },
        {
            "cell_type": "code",
            "execution_count": null,
            "metadata": {},
            "outputs": [],
            "source": ""
        }
    ],
    "metadata": {
        "kernelspec": {
            "display_name": "Python 3.6",
            "language": "python",
            "name": "python3"
        },
        "language_info": {
            "codemirror_mode": {
                "name": "ipython",
                "version": 3
            },
            "file_extension": ".py",
            "mimetype": "text/x-python",
            "name": "python",
            "nbconvert_exporter": "python",
            "pygments_lexer": "ipython3",
            "version": "3.6.9"
        }
    },
    "nbformat": 4,
    "nbformat_minor": 1
}